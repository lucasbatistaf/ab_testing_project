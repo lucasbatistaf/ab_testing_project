{
 "cells": [
  {
   "cell_type": "markdown",
   "metadata": {},
   "source": [
    "### Imports"
   ]
  },
  {
   "cell_type": "code",
   "execution_count": 32,
   "metadata": {},
   "outputs": [],
   "source": [
    "import numpy as np\n",
    "import pandas as pd\n",
    "import scipy.stats as stats\n",
    "import statsmodels.stats.api as sms\n",
    "from statsmodels.stats.proportion import proportions_ztest, proportion_confint\n",
    "import matplotlib as mpl\n",
    "import matplotlib.pyplot as plt\n",
    "from math import ceil\n",
    "\n",
    "%matplotlib inline\n"
   ]
  },
  {
   "cell_type": "markdown",
   "metadata": {},
   "source": [
    "### Loading the Dataset"
   ]
  },
  {
   "cell_type": "code",
   "execution_count": 57,
   "metadata": {},
   "outputs": [
    {
     "data": {
      "application/vnd.microsoft.datawrangler.viewer.v0+json": {
       "columns": [
        {
         "name": "index",
         "rawType": "int64",
         "type": "integer"
        },
        {
         "name": "experiment_date",
         "rawType": "object",
         "type": "string"
        },
        {
         "name": "site_version",
         "rawType": "object",
         "type": "string"
        },
        {
         "name": "product",
         "rawType": "object",
         "type": "string"
        },
        {
         "name": "count_user",
         "rawType": "int64",
         "type": "integer"
        },
        {
         "name": "count_show",
         "rawType": "int64",
         "type": "integer"
        },
        {
         "name": "count_click",
         "rawType": "int64",
         "type": "integer"
        },
        {
         "name": "count_order",
         "rawType": "int64",
         "type": "integer"
        }
       ],
       "conversionMethod": "pd.DataFrame",
       "ref": "a4c87e48-b918-4293-a3c3-eb240f3f7ee3",
       "rows": [
        [
         "0",
         "2019-03-01",
         "mobile",
         "clothes",
         "1",
         "1",
         "0",
         "0"
        ],
        [
         "1",
         "2019-03-01",
         "mobile",
         "sneakers",
         "1",
         "1",
         "0",
         "0"
        ],
        [
         "2",
         "2019-03-01",
         "mobile",
         "sports_nutrition",
         "1",
         "1",
         "0",
         "0"
        ],
        [
         "3",
         "2019-03-01",
         "mobile",
         "accessories",
         "2",
         "2",
         "0",
         "0"
        ],
        [
         "4",
         "2019-03-01",
         "mobile",
         "sports_nutrition",
         "1",
         "0",
         "0",
         "1"
        ]
       ],
       "shape": {
        "columns": 7,
        "rows": 5
       }
      },
      "text/html": [
       "<div>\n",
       "<style scoped>\n",
       "    .dataframe tbody tr th:only-of-type {\n",
       "        vertical-align: middle;\n",
       "    }\n",
       "\n",
       "    .dataframe tbody tr th {\n",
       "        vertical-align: top;\n",
       "    }\n",
       "\n",
       "    .dataframe thead th {\n",
       "        text-align: right;\n",
       "    }\n",
       "</style>\n",
       "<table border=\"1\" class=\"dataframe\">\n",
       "  <thead>\n",
       "    <tr style=\"text-align: right;\">\n",
       "      <th></th>\n",
       "      <th>experiment_date</th>\n",
       "      <th>site_version</th>\n",
       "      <th>product</th>\n",
       "      <th>count_user</th>\n",
       "      <th>count_show</th>\n",
       "      <th>count_click</th>\n",
       "      <th>count_order</th>\n",
       "    </tr>\n",
       "  </thead>\n",
       "  <tbody>\n",
       "    <tr>\n",
       "      <th>0</th>\n",
       "      <td>2019-03-01</td>\n",
       "      <td>mobile</td>\n",
       "      <td>clothes</td>\n",
       "      <td>1</td>\n",
       "      <td>1</td>\n",
       "      <td>0</td>\n",
       "      <td>0</td>\n",
       "    </tr>\n",
       "    <tr>\n",
       "      <th>1</th>\n",
       "      <td>2019-03-01</td>\n",
       "      <td>mobile</td>\n",
       "      <td>sneakers</td>\n",
       "      <td>1</td>\n",
       "      <td>1</td>\n",
       "      <td>0</td>\n",
       "      <td>0</td>\n",
       "    </tr>\n",
       "    <tr>\n",
       "      <th>2</th>\n",
       "      <td>2019-03-01</td>\n",
       "      <td>mobile</td>\n",
       "      <td>sports_nutrition</td>\n",
       "      <td>1</td>\n",
       "      <td>1</td>\n",
       "      <td>0</td>\n",
       "      <td>0</td>\n",
       "    </tr>\n",
       "    <tr>\n",
       "      <th>3</th>\n",
       "      <td>2019-03-01</td>\n",
       "      <td>mobile</td>\n",
       "      <td>accessories</td>\n",
       "      <td>2</td>\n",
       "      <td>2</td>\n",
       "      <td>0</td>\n",
       "      <td>0</td>\n",
       "    </tr>\n",
       "    <tr>\n",
       "      <th>4</th>\n",
       "      <td>2019-03-01</td>\n",
       "      <td>mobile</td>\n",
       "      <td>sports_nutrition</td>\n",
       "      <td>1</td>\n",
       "      <td>0</td>\n",
       "      <td>0</td>\n",
       "      <td>1</td>\n",
       "    </tr>\n",
       "  </tbody>\n",
       "</table>\n",
       "</div>"
      ],
      "text/plain": [
       "  experiment_date site_version           product  count_user  count_show  \\\n",
       "0      2019-03-01       mobile           clothes           1           1   \n",
       "1      2019-03-01       mobile          sneakers           1           1   \n",
       "2      2019-03-01       mobile  sports_nutrition           1           1   \n",
       "3      2019-03-01       mobile       accessories           2           2   \n",
       "4      2019-03-01       mobile  sports_nutrition           1           0   \n",
       "\n",
       "   count_click  count_order  \n",
       "0            0            0  \n",
       "1            0            0  \n",
       "2            0            0  \n",
       "3            0            0  \n",
       "4            0            1  "
      ]
     },
     "execution_count": 57,
     "metadata": {},
     "output_type": "execute_result"
    }
   ],
   "source": [
    "df = pd.read_csv(r'C:\\Users\\Lucas\\Desktop\\AB Testing Project\\result_dataset.csv', delimiter=',')\n",
    "\n",
    "df.head()"
   ]
  },
  {
   "cell_type": "markdown",
   "metadata": {},
   "source": [
    "### Calculating the effect size of the dataset"
   ]
  },
  {
   "cell_type": "code",
   "execution_count": 58,
   "metadata": {},
   "outputs": [
    {
     "name": "stdout",
     "output_type": "stream",
     "text": [
      "50000\n"
     ]
    }
   ],
   "source": [
    "effect_size = sms.proportion_effectsize(0.05, 0.1)    # Calculating effect size based on our expected rates\n",
    "\n",
    "required_n = sms.NormalIndPower().solve_power(\n",
    "    effect_size, \n",
    "    power=1, \n",
    "    alpha=0.05,\n",
    "    ratio=1\n",
    "    )                                                  # Calculating sample size needed\n",
    "\n",
    "required_n = ceil(required_n)                          # Rounding up to next whole number                          \n",
    "\n",
    "print(required_n)"
   ]
  },
  {
   "cell_type": "markdown",
   "metadata": {},
   "source": [
    "### Sampling\n",
    "\n",
    "Here I'm using the site_version column to determine the control_sample as the mobile and treatment_sample as the desktop"
   ]
  },
  {
   "cell_type": "code",
   "execution_count": 59,
   "metadata": {},
   "outputs": [
    {
     "data": {
      "application/vnd.microsoft.datawrangler.viewer.v0+json": {
       "columns": [
        {
         "name": "index",
         "rawType": "int64",
         "type": "integer"
        },
        {
         "name": "experiment_date",
         "rawType": "object",
         "type": "string"
        },
        {
         "name": "site_version",
         "rawType": "object",
         "type": "string"
        },
        {
         "name": "product",
         "rawType": "object",
         "type": "string"
        },
        {
         "name": "count_user",
         "rawType": "int64",
         "type": "integer"
        },
        {
         "name": "count_show",
         "rawType": "int64",
         "type": "integer"
        },
        {
         "name": "count_click",
         "rawType": "int64",
         "type": "integer"
        },
        {
         "name": "count_order",
         "rawType": "int64",
         "type": "integer"
        }
       ],
       "conversionMethod": "pd.DataFrame",
       "ref": "e1beb9ec-5afe-44c2-999d-f54462d228ed",
       "rows": [
        [
         "0",
         "2019-03-03",
         "mobile",
         "clothes",
         "1",
         "0",
         "1",
         "0"
        ],
        [
         "1",
         "2019-03-05",
         "mobile",
         "sports_nutrition",
         "1",
         "1",
         "0",
         "0"
        ],
        [
         "2",
         "2019-03-04",
         "mobile",
         "sneakers",
         "1",
         "1",
         "0",
         "0"
        ],
        [
         "3",
         "2019-03-08",
         "mobile",
         "sneakers",
         "1",
         "1",
         "0",
         "0"
        ],
        [
         "4",
         "2019-03-11",
         "mobile",
         "sneakers",
         "2",
         "2",
         "0",
         "0"
        ],
        [
         "5",
         "2019-03-01",
         "mobile",
         "sneakers",
         "1",
         "1",
         "0",
         "0"
        ],
        [
         "6",
         "2019-03-14",
         "mobile",
         "clothes",
         "1",
         "1",
         "0",
         "0"
        ],
        [
         "7",
         "2019-03-07",
         "mobile",
         "clothes",
         "1",
         "0",
         "1",
         "0"
        ],
        [
         "8",
         "2019-03-14",
         "mobile",
         "sports_nutrition",
         "1",
         "1",
         "0",
         "0"
        ],
        [
         "9",
         "2019-03-01",
         "mobile",
         "sneakers",
         "1",
         "1",
         "0",
         "0"
        ],
        [
         "10",
         "2019-03-12",
         "mobile",
         "sports_nutrition",
         "1",
         "1",
         "0",
         "0"
        ],
        [
         "11",
         "2019-03-05",
         "mobile",
         "sneakers",
         "1",
         "1",
         "0",
         "0"
        ],
        [
         "12",
         "2019-03-14",
         "mobile",
         "accessories",
         "1",
         "1",
         "0",
         "0"
        ],
        [
         "13",
         "2019-03-01",
         "mobile",
         "sneakers",
         "1",
         "1",
         "0",
         "0"
        ],
        [
         "14",
         "2019-03-11",
         "mobile",
         "clothes",
         "1",
         "1",
         "0",
         "0"
        ],
        [
         "15",
         "2019-03-12",
         "mobile",
         "sports_nutrition",
         "1",
         "1",
         "0",
         "0"
        ],
        [
         "16",
         "2019-03-14",
         "mobile",
         "sports_nutrition",
         "1",
         "1",
         "0",
         "0"
        ],
        [
         "17",
         "2019-03-08",
         "mobile",
         "accessories",
         "1",
         "1",
         "0",
         "0"
        ],
        [
         "18",
         "2019-03-08",
         "mobile",
         "sports_nutrition",
         "1",
         "1",
         "0",
         "0"
        ],
        [
         "19",
         "2019-03-01",
         "mobile",
         "clothes",
         "1",
         "1",
         "0",
         "0"
        ],
        [
         "20",
         "2019-03-12",
         "mobile",
         "clothes",
         "1",
         "1",
         "0",
         "0"
        ],
        [
         "21",
         "2019-03-02",
         "mobile",
         "clothes",
         "1",
         "1",
         "0",
         "0"
        ],
        [
         "22",
         "2019-03-03",
         "mobile",
         "accessories",
         "1",
         "0",
         "0",
         "1"
        ],
        [
         "23",
         "2019-03-11",
         "mobile",
         "clothes",
         "1",
         "1",
         "0",
         "0"
        ],
        [
         "24",
         "2019-03-08",
         "mobile",
         "accessories",
         "1",
         "0",
         "1",
         "0"
        ],
        [
         "25",
         "2019-03-10",
         "mobile",
         "sports_nutrition",
         "1",
         "1",
         "0",
         "0"
        ],
        [
         "26",
         "2019-03-08",
         "mobile",
         "sneakers",
         "1",
         "0",
         "1",
         "0"
        ],
        [
         "27",
         "2019-03-01",
         "mobile",
         "clothes",
         "1",
         "0",
         "1",
         "0"
        ],
        [
         "28",
         "2019-03-12",
         "mobile",
         "accessories",
         "1",
         "1",
         "0",
         "0"
        ],
        [
         "29",
         "2019-03-08",
         "mobile",
         "sneakers",
         "1",
         "1",
         "0",
         "0"
        ],
        [
         "30",
         "2019-03-10",
         "mobile",
         "sports_nutrition",
         "1",
         "1",
         "0",
         "0"
        ],
        [
         "31",
         "2019-03-12",
         "mobile",
         "clothes",
         "1",
         "1",
         "0",
         "0"
        ],
        [
         "32",
         "2019-03-13",
         "mobile",
         "clothes",
         "1",
         "1",
         "0",
         "0"
        ],
        [
         "33",
         "2019-03-14",
         "mobile",
         "sports_nutrition",
         "1",
         "0",
         "1",
         "0"
        ],
        [
         "34",
         "2019-03-03",
         "mobile",
         "sports_nutrition",
         "1",
         "0",
         "1",
         "0"
        ],
        [
         "35",
         "2019-03-14",
         "mobile",
         "sneakers",
         "1",
         "1",
         "0",
         "0"
        ],
        [
         "36",
         "2019-03-07",
         "mobile",
         "sneakers",
         "1",
         "1",
         "0",
         "0"
        ],
        [
         "37",
         "2019-03-02",
         "mobile",
         "sports_nutrition",
         "1",
         "1",
         "0",
         "0"
        ],
        [
         "38",
         "2019-03-09",
         "mobile",
         "accessories",
         "1",
         "1",
         "0",
         "0"
        ],
        [
         "39",
         "2019-03-02",
         "mobile",
         "clothes",
         "1",
         "1",
         "0",
         "0"
        ],
        [
         "40",
         "2019-03-01",
         "mobile",
         "sneakers",
         "1",
         "1",
         "0",
         "0"
        ],
        [
         "41",
         "2019-03-06",
         "mobile",
         "clothes",
         "1",
         "1",
         "0",
         "0"
        ],
        [
         "42",
         "2019-03-01",
         "mobile",
         "sports_nutrition",
         "1",
         "1",
         "0",
         "0"
        ],
        [
         "43",
         "2019-03-11",
         "mobile",
         "sneakers",
         "1",
         "1",
         "0",
         "0"
        ],
        [
         "44",
         "2019-03-05",
         "mobile",
         "sports_nutrition",
         "1",
         "1",
         "0",
         "0"
        ],
        [
         "45",
         "2019-03-13",
         "mobile",
         "clothes",
         "1",
         "0",
         "1",
         "0"
        ],
        [
         "46",
         "2019-03-13",
         "mobile",
         "sports_nutrition",
         "1",
         "0",
         "1",
         "0"
        ],
        [
         "47",
         "2019-03-03",
         "mobile",
         "clothes",
         "1",
         "1",
         "0",
         "0"
        ],
        [
         "48",
         "2019-03-14",
         "mobile",
         "sneakers",
         "1",
         "1",
         "0",
         "0"
        ],
        [
         "49",
         "2019-03-07",
         "mobile",
         "clothes",
         "1",
         "1",
         "0",
         "0"
        ]
       ],
       "shape": {
        "columns": 7,
        "rows": 100000
       }
      },
      "text/html": [
       "<div>\n",
       "<style scoped>\n",
       "    .dataframe tbody tr th:only-of-type {\n",
       "        vertical-align: middle;\n",
       "    }\n",
       "\n",
       "    .dataframe tbody tr th {\n",
       "        vertical-align: top;\n",
       "    }\n",
       "\n",
       "    .dataframe thead th {\n",
       "        text-align: right;\n",
       "    }\n",
       "</style>\n",
       "<table border=\"1\" class=\"dataframe\">\n",
       "  <thead>\n",
       "    <tr style=\"text-align: right;\">\n",
       "      <th></th>\n",
       "      <th>experiment_date</th>\n",
       "      <th>site_version</th>\n",
       "      <th>product</th>\n",
       "      <th>count_user</th>\n",
       "      <th>count_show</th>\n",
       "      <th>count_click</th>\n",
       "      <th>count_order</th>\n",
       "    </tr>\n",
       "  </thead>\n",
       "  <tbody>\n",
       "    <tr>\n",
       "      <th>0</th>\n",
       "      <td>2019-03-03</td>\n",
       "      <td>mobile</td>\n",
       "      <td>clothes</td>\n",
       "      <td>1</td>\n",
       "      <td>0</td>\n",
       "      <td>1</td>\n",
       "      <td>0</td>\n",
       "    </tr>\n",
       "    <tr>\n",
       "      <th>1</th>\n",
       "      <td>2019-03-05</td>\n",
       "      <td>mobile</td>\n",
       "      <td>sports_nutrition</td>\n",
       "      <td>1</td>\n",
       "      <td>1</td>\n",
       "      <td>0</td>\n",
       "      <td>0</td>\n",
       "    </tr>\n",
       "    <tr>\n",
       "      <th>2</th>\n",
       "      <td>2019-03-04</td>\n",
       "      <td>mobile</td>\n",
       "      <td>sneakers</td>\n",
       "      <td>1</td>\n",
       "      <td>1</td>\n",
       "      <td>0</td>\n",
       "      <td>0</td>\n",
       "    </tr>\n",
       "    <tr>\n",
       "      <th>3</th>\n",
       "      <td>2019-03-08</td>\n",
       "      <td>mobile</td>\n",
       "      <td>sneakers</td>\n",
       "      <td>1</td>\n",
       "      <td>1</td>\n",
       "      <td>0</td>\n",
       "      <td>0</td>\n",
       "    </tr>\n",
       "    <tr>\n",
       "      <th>4</th>\n",
       "      <td>2019-03-11</td>\n",
       "      <td>mobile</td>\n",
       "      <td>sneakers</td>\n",
       "      <td>2</td>\n",
       "      <td>2</td>\n",
       "      <td>0</td>\n",
       "      <td>0</td>\n",
       "    </tr>\n",
       "    <tr>\n",
       "      <th>...</th>\n",
       "      <td>...</td>\n",
       "      <td>...</td>\n",
       "      <td>...</td>\n",
       "      <td>...</td>\n",
       "      <td>...</td>\n",
       "      <td>...</td>\n",
       "      <td>...</td>\n",
       "    </tr>\n",
       "    <tr>\n",
       "      <th>99995</th>\n",
       "      <td>2019-03-02</td>\n",
       "      <td>desktop</td>\n",
       "      <td>accessories</td>\n",
       "      <td>1</td>\n",
       "      <td>1</td>\n",
       "      <td>0</td>\n",
       "      <td>0</td>\n",
       "    </tr>\n",
       "    <tr>\n",
       "      <th>99996</th>\n",
       "      <td>2019-03-02</td>\n",
       "      <td>desktop</td>\n",
       "      <td>sports_nutrition</td>\n",
       "      <td>1</td>\n",
       "      <td>1</td>\n",
       "      <td>0</td>\n",
       "      <td>0</td>\n",
       "    </tr>\n",
       "    <tr>\n",
       "      <th>99997</th>\n",
       "      <td>2019-03-01</td>\n",
       "      <td>desktop</td>\n",
       "      <td>clothes</td>\n",
       "      <td>1</td>\n",
       "      <td>0</td>\n",
       "      <td>0</td>\n",
       "      <td>1</td>\n",
       "    </tr>\n",
       "    <tr>\n",
       "      <th>99998</th>\n",
       "      <td>2019-03-09</td>\n",
       "      <td>desktop</td>\n",
       "      <td>accessories</td>\n",
       "      <td>1</td>\n",
       "      <td>1</td>\n",
       "      <td>0</td>\n",
       "      <td>0</td>\n",
       "    </tr>\n",
       "    <tr>\n",
       "      <th>99999</th>\n",
       "      <td>2019-03-10</td>\n",
       "      <td>desktop</td>\n",
       "      <td>sports_nutrition</td>\n",
       "      <td>1</td>\n",
       "      <td>1</td>\n",
       "      <td>0</td>\n",
       "      <td>0</td>\n",
       "    </tr>\n",
       "  </tbody>\n",
       "</table>\n",
       "<p>100000 rows × 7 columns</p>\n",
       "</div>"
      ],
      "text/plain": [
       "      experiment_date site_version           product  count_user  count_show  \\\n",
       "0          2019-03-03       mobile           clothes           1           0   \n",
       "1          2019-03-05       mobile  sports_nutrition           1           1   \n",
       "2          2019-03-04       mobile          sneakers           1           1   \n",
       "3          2019-03-08       mobile          sneakers           1           1   \n",
       "4          2019-03-11       mobile          sneakers           2           2   \n",
       "...               ...          ...               ...         ...         ...   \n",
       "99995      2019-03-02      desktop       accessories           1           1   \n",
       "99996      2019-03-02      desktop  sports_nutrition           1           1   \n",
       "99997      2019-03-01      desktop           clothes           1           0   \n",
       "99998      2019-03-09      desktop       accessories           1           1   \n",
       "99999      2019-03-10      desktop  sports_nutrition           1           1   \n",
       "\n",
       "       count_click  count_order  \n",
       "0                1            0  \n",
       "1                0            0  \n",
       "2                0            0  \n",
       "3                0            0  \n",
       "4                0            0  \n",
       "...            ...          ...  \n",
       "99995            0            0  \n",
       "99996            0            0  \n",
       "99997            0            1  \n",
       "99998            0            0  \n",
       "99999            0            0  \n",
       "\n",
       "[100000 rows x 7 columns]"
      ]
     },
     "execution_count": 59,
     "metadata": {},
     "output_type": "execute_result"
    }
   ],
   "source": [
    "random_state = 22\n",
    "\n",
    "control_sample = df[df['site_version'] == 'mobile'].sample(n=required_n, random_state=random_state)\n",
    "treatment_sample = df[df['site_version'] == 'desktop'].sample(n=required_n, random_state=random_state)\n",
    "\n",
    "ab_test = pd.concat([control_sample, treatment_sample], axis=0)\n",
    "ab_test.reset_index(drop=True, inplace=True)\n",
    "\n",
    "ab_test"
   ]
  },
  {
   "cell_type": "code",
   "execution_count": 60,
   "metadata": {},
   "outputs": [
    {
     "data": {
      "text/plain": [
       "site_version\n",
       "mobile     50000\n",
       "desktop    50000\n",
       "Name: count, dtype: int64"
      ]
     },
     "execution_count": 60,
     "metadata": {},
     "output_type": "execute_result"
    }
   ],
   "source": [
    "ab_test['site_version'].value_counts()"
   ]
  },
  {
   "cell_type": "markdown",
   "metadata": {},
   "source": [
    "### Testing the results"
   ]
  },
  {
   "cell_type": "code",
   "execution_count": 61,
   "metadata": {},
   "outputs": [
    {
     "name": "stderr",
     "output_type": "stream",
     "text": [
      "C:\\Users\\Lucas\\AppData\\Local\\Temp\\ipykernel_17948\\651263320.py:6: FutureWarning: The provided callable <function mean at 0x000001B3F08E5620> is currently using SeriesGroupBy.mean. In a future version of pandas, the provided callable will be used directly. To keep current behavior pass the string \"mean\" instead.\n",
      "  conversion_rates = conversion_rates.agg([np.mean, std, se])\n"
     ]
    },
    {
     "data": {
      "text/html": [
       "<style type=\"text/css\">\n",
       "</style>\n",
       "<table id=\"T_a9666\">\n",
       "  <thead>\n",
       "    <tr>\n",
       "      <th class=\"blank level0\" >&nbsp;</th>\n",
       "      <th id=\"T_a9666_level0_col0\" class=\"col_heading level0 col0\" >conversion_rate</th>\n",
       "      <th id=\"T_a9666_level0_col1\" class=\"col_heading level0 col1\" >standard_deviation</th>\n",
       "      <th id=\"T_a9666_level0_col2\" class=\"col_heading level0 col2\" >standard_error</th>\n",
       "    </tr>\n",
       "    <tr>\n",
       "      <th class=\"index_name level0\" >site_version</th>\n",
       "      <th class=\"blank col0\" >&nbsp;</th>\n",
       "      <th class=\"blank col1\" >&nbsp;</th>\n",
       "      <th class=\"blank col2\" >&nbsp;</th>\n",
       "    </tr>\n",
       "  </thead>\n",
       "  <tbody>\n",
       "    <tr>\n",
       "      <th id=\"T_a9666_level0_row0\" class=\"row_heading level0 row0\" >desktop</th>\n",
       "      <td id=\"T_a9666_row0_col0\" class=\"data row0 col0\" >0.081</td>\n",
       "      <td id=\"T_a9666_row0_col1\" class=\"data row0 col1\" >0.274</td>\n",
       "      <td id=\"T_a9666_row0_col2\" class=\"data row0 col2\" >0.001</td>\n",
       "    </tr>\n",
       "    <tr>\n",
       "      <th id=\"T_a9666_level0_row1\" class=\"row_heading level0 row1\" >mobile</th>\n",
       "      <td id=\"T_a9666_row1_col0\" class=\"data row1 col0\" >0.028</td>\n",
       "      <td id=\"T_a9666_row1_col1\" class=\"data row1 col1\" >0.164</td>\n",
       "      <td id=\"T_a9666_row1_col2\" class=\"data row1 col2\" >0.001</td>\n",
       "    </tr>\n",
       "  </tbody>\n",
       "</table>\n"
      ],
      "text/plain": [
       "<pandas.io.formats.style.Styler at 0x1b38de54450>"
      ]
     },
     "execution_count": 61,
     "metadata": {},
     "output_type": "execute_result"
    }
   ],
   "source": [
    "conversion_rates = ab_test.groupby('site_version')['count_order']\n",
    "\n",
    "std = lambda x: np.std(x, ddof=0)              \n",
    "se = lambda x: stats.sem(x, ddof=0)\n",
    "\n",
    "conversion_rates = conversion_rates.agg([np.mean, std, se])\n",
    "conversion_rates.columns = ['conversion_rate', 'standard_deviation', 'standard_error']\n",
    "\n",
    "\n",
    "conversion_rates.style.format('{:.3f}')"
   ]
  },
  {
   "cell_type": "markdown",
   "metadata": {},
   "source": []
  },
  {
   "cell_type": "code",
   "execution_count": null,
   "metadata": {},
   "outputs": [
    {
     "name": "stdout",
     "output_type": "stream",
     "text": [
      "z statistic: -37.35\n",
      "p-value: 0.000000000\n",
      "ci 95% for control group: [0.026, 0.029]\n",
      "ci 95% for treatment group: [0.079, 0.084]\n"
     ]
    }
   ],
   "source": [
    "control_results = ab_test[ab_test['site_version'] == 'mobile']['count_order']\n",
    "treatment_results = ab_test[ab_test['site_version'] == 'desktop']['count_order']\n",
    "\n",
    "n_con = control_results.count()\n",
    "n_treat = treatment_results.count()\n",
    "successes = [control_results.sum(), treatment_results.sum()]\n",
    "nobs = [n_con, n_treat]\n",
    "\n",
    "z_stat, pval = proportions_ztest(successes, nobs=nobs)\n",
    "(lower_con, lower_treat), (upper_con, upper_treat) = proportion_confint(successes, nobs=nobs, alpha=0.05)\n",
    "\n",
    "print(f'z statistic: {z_stat:.2f}')\n",
    "print(f'p-value: {pval:.3f}')\n",
    "print(f'ci 95% for control group: [{lower_con:.3f}, {upper_con:.3f}]')\n",
    "print(f'ci 95% for treatment group: [{lower_treat:.3f}, {upper_treat:.3f}]')"
   ]
  },
  {
   "cell_type": "markdown",
   "metadata": {},
   "source": []
  },
  {
   "cell_type": "code",
   "execution_count": null,
   "metadata": {},
   "outputs": [],
   "source": []
  }
 ],
 "metadata": {
  "kernelspec": {
   "display_name": "Python 3",
   "language": "python",
   "name": "python3"
  },
  "language_info": {
   "codemirror_mode": {
    "name": "ipython",
    "version": 3
   },
   "file_extension": ".py",
   "mimetype": "text/x-python",
   "name": "python",
   "nbconvert_exporter": "python",
   "pygments_lexer": "ipython3",
   "version": "3.11.8"
  }
 },
 "nbformat": 4,
 "nbformat_minor": 2
}
